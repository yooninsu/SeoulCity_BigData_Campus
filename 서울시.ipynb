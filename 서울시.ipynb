{
 "cells": [
  {
   "cell_type": "code",
   "execution_count": 1,
   "metadata": {},
   "outputs": [],
   "source": [
    "import pandas as pd\n",
    "import os\n",
    "import glob\n",
    "from dbfread import DBF\n"
   ]
  },
  {
   "cell_type": "code",
   "execution_count": 2,
   "metadata": {},
   "outputs": [],
   "source": [
    "csv_directory = \"./데이터/고도/\"\n",
    "csv_files = glob.glob(csv_directory + \"*.csv\")"
   ]
  },
  {
   "cell_type": "code",
   "execution_count": 3,
   "metadata": {},
   "outputs": [],
   "source": [
    "locals = [\"종로구\", \"중구\", \"용산구\", \"성동구\", \"광진구\", \"동대문구\", \"중랑구\", \"성북구\", \"강북구\", \"도봉구\", \"노원구\", \"은평구\", \"서대문구\", \"마포구\", \"양천구\", \"강서구\", \"구로구\", \"금천구\", \"영등포구\", \"동작구\", \"관악구\", \"서초구\", \"강남구\", \"송파구\", \"강동구\"]\n"
   ]
  },
  {
   "cell_type": "code",
   "execution_count": 4,
   "metadata": {},
   "outputs": [],
   "source": [
    "elevation = pd.DataFrame()\n",
    "\n",
    "for filename in os.listdir(csv_directory):\n",
    "    if filename.endswith(\".csv\"):\n",
    "        file_path = os.path.join(csv_directory, filename)\n",
    "        \n",
    "        # CSV 파일을 읽어옵니다. 열 이름을 자동으로 생성하려면 header=None을 설정합니다.\n",
    "        df = pd.read_csv(file_path, header=None)\n",
    "        \n",
    "        # 읽어온 데이터프레임을 병합합니다.\n",
    "        elevation = pd.concat([elevation, df], ignore_index=True)\n"
   ]
  },
  {
   "cell_type": "code",
   "execution_count": 5,
   "metadata": {},
   "outputs": [],
   "source": [
    "elevation.rename(columns={0: 'AREA', 1: \"PERIMETER\",2:'ELEVATION'}, inplace = True)"
   ]
  },
  {
   "cell_type": "code",
   "execution_count": 6,
   "metadata": {},
   "outputs": [
    {
     "data": {
      "text/html": [
       "<div>\n",
       "<style scoped>\n",
       "    .dataframe tbody tr th:only-of-type {\n",
       "        vertical-align: middle;\n",
       "    }\n",
       "\n",
       "    .dataframe tbody tr th {\n",
       "        vertical-align: top;\n",
       "    }\n",
       "\n",
       "    .dataframe thead th {\n",
       "        text-align: right;\n",
       "    }\n",
       "</style>\n",
       "<table border=\"1\" class=\"dataframe\">\n",
       "  <thead>\n",
       "    <tr style=\"text-align: right;\">\n",
       "      <th></th>\n",
       "      <th>AREA</th>\n",
       "      <th>PERIMETER</th>\n",
       "      <th>ELEVATION</th>\n",
       "    </tr>\n",
       "  </thead>\n",
       "  <tbody>\n",
       "    <tr>\n",
       "      <th>0</th>\n",
       "      <td>200305.31</td>\n",
       "      <td>547459.91</td>\n",
       "      <td>16.78</td>\n",
       "    </tr>\n",
       "    <tr>\n",
       "      <th>1</th>\n",
       "      <td>200305.31</td>\n",
       "      <td>547369.91</td>\n",
       "      <td>9.62</td>\n",
       "    </tr>\n",
       "    <tr>\n",
       "      <th>2</th>\n",
       "      <td>200305.31</td>\n",
       "      <td>547279.91</td>\n",
       "      <td>5.69</td>\n",
       "    </tr>\n",
       "    <tr>\n",
       "      <th>3</th>\n",
       "      <td>200305.31</td>\n",
       "      <td>547189.91</td>\n",
       "      <td>5.38</td>\n",
       "    </tr>\n",
       "    <tr>\n",
       "      <th>4</th>\n",
       "      <td>200395.31</td>\n",
       "      <td>547549.91</td>\n",
       "      <td>19.62</td>\n",
       "    </tr>\n",
       "    <tr>\n",
       "      <th>...</th>\n",
       "      <td>...</td>\n",
       "      <td>...</td>\n",
       "      <td>...</td>\n",
       "    </tr>\n",
       "    <tr>\n",
       "      <th>106712</th>\n",
       "      <td>210697.72</td>\n",
       "      <td>554846.65</td>\n",
       "      <td>132.81</td>\n",
       "    </tr>\n",
       "    <tr>\n",
       "      <th>106713</th>\n",
       "      <td>210697.72</td>\n",
       "      <td>554756.65</td>\n",
       "      <td>121.28</td>\n",
       "    </tr>\n",
       "    <tr>\n",
       "      <th>106714</th>\n",
       "      <td>210697.72</td>\n",
       "      <td>554666.65</td>\n",
       "      <td>113.31</td>\n",
       "    </tr>\n",
       "    <tr>\n",
       "      <th>106715</th>\n",
       "      <td>210787.72</td>\n",
       "      <td>555026.65</td>\n",
       "      <td>146.72</td>\n",
       "    </tr>\n",
       "    <tr>\n",
       "      <th>106716</th>\n",
       "      <td>210787.72</td>\n",
       "      <td>554936.65</td>\n",
       "      <td>126.35</td>\n",
       "    </tr>\n",
       "  </tbody>\n",
       "</table>\n",
       "<p>106717 rows × 3 columns</p>\n",
       "</div>"
      ],
      "text/plain": [
       "             AREA  PERIMETER  ELEVATION\n",
       "0       200305.31  547459.91      16.78\n",
       "1       200305.31  547369.91       9.62\n",
       "2       200305.31  547279.91       5.69\n",
       "3       200305.31  547189.91       5.38\n",
       "4       200395.31  547549.91      19.62\n",
       "...           ...        ...        ...\n",
       "106712  210697.72  554846.65     132.81\n",
       "106713  210697.72  554756.65     121.28\n",
       "106714  210697.72  554666.65     113.31\n",
       "106715  210787.72  555026.65     146.72\n",
       "106716  210787.72  554936.65     126.35\n",
       "\n",
       "[106717 rows x 3 columns]"
      ]
     },
     "execution_count": 6,
     "metadata": {},
     "output_type": "execute_result"
    }
   ],
   "source": [
    "elevation"
   ]
  },
  {
   "cell_type": "code",
   "execution_count": 7,
   "metadata": {},
   "outputs": [],
   "source": [
    "elevation.to_csv('elevation.csv')"
   ]
  },
  {
   "cell_type": "code",
   "execution_count": 8,
   "metadata": {},
   "outputs": [],
   "source": [
    "drainage= pd.read_excel(\"./데이터/Z_SIS_ASIT_SOILDRA_AREA.xlsx\")\n"
   ]
  },
  {
   "cell_type": "code",
   "execution_count": 9,
   "metadata": {},
   "outputs": [
    {
     "data": {
      "text/html": [
       "<div>\n",
       "<style scoped>\n",
       "    .dataframe tbody tr th:only-of-type {\n",
       "        vertical-align: middle;\n",
       "    }\n",
       "\n",
       "    .dataframe tbody tr th {\n",
       "        vertical-align: top;\n",
       "    }\n",
       "\n",
       "    .dataframe thead th {\n",
       "        text-align: right;\n",
       "    }\n",
       "</style>\n",
       "<table border=\"1\" class=\"dataframe\">\n",
       "  <thead>\n",
       "    <tr style=\"text-align: right;\">\n",
       "      <th></th>\n",
       "      <th>AREA</th>\n",
       "      <th>PERIMETER</th>\n",
       "      <th>CODE_DC</th>\n",
       "      <th>SOILDRA</th>\n",
       "    </tr>\n",
       "  </thead>\n",
       "  <tbody>\n",
       "    <tr>\n",
       "      <th>0</th>\n",
       "      <td>20154500.0</td>\n",
       "      <td>26673.40</td>\n",
       "      <td>999</td>\n",
       "      <td>기타</td>\n",
       "    </tr>\n",
       "    <tr>\n",
       "      <th>1</th>\n",
       "      <td>1210520.0</td>\n",
       "      <td>5359.01</td>\n",
       "      <td>1</td>\n",
       "      <td>매우양호</td>\n",
       "    </tr>\n",
       "    <tr>\n",
       "      <th>2</th>\n",
       "      <td>187981.0</td>\n",
       "      <td>3806.03</td>\n",
       "      <td>2</td>\n",
       "      <td>양호</td>\n",
       "    </tr>\n",
       "    <tr>\n",
       "      <th>3</th>\n",
       "      <td>3612200.0</td>\n",
       "      <td>22563.10</td>\n",
       "      <td>2</td>\n",
       "      <td>양호</td>\n",
       "    </tr>\n",
       "    <tr>\n",
       "      <th>4</th>\n",
       "      <td>102804.0</td>\n",
       "      <td>4164.06</td>\n",
       "      <td>999</td>\n",
       "      <td>기타</td>\n",
       "    </tr>\n",
       "  </tbody>\n",
       "</table>\n",
       "</div>"
      ],
      "text/plain": [
       "         AREA  PERIMETER  CODE_DC SOILDRA\n",
       "0  20154500.0   26673.40      999      기타\n",
       "1   1210520.0    5359.01        1    매우양호\n",
       "2    187981.0    3806.03        2      양호\n",
       "3   3612200.0   22563.10        2      양호\n",
       "4    102804.0    4164.06      999      기타"
      ]
     },
     "execution_count": 9,
     "metadata": {},
     "output_type": "execute_result"
    }
   ],
   "source": [
    "drainage.head()"
   ]
  },
  {
   "cell_type": "code",
   "execution_count": 10,
   "metadata": {},
   "outputs": [
    {
     "data": {
      "text/plain": [
       "pandas.core.series.Series"
      ]
     },
     "execution_count": 10,
     "metadata": {},
     "output_type": "execute_result"
    }
   ],
   "source": [
    "type(drainage['AREA'])"
   ]
  },
  {
   "cell_type": "code",
   "execution_count": 31,
   "metadata": {},
   "outputs": [],
   "source": [
    "import pyproj\n",
    "import folium\n",
    "import numpy as np"
   ]
  },
  {
   "cell_type": "code",
   "execution_count": 45,
   "metadata": {},
   "outputs": [
    {
     "name": "stderr",
     "output_type": "stream",
     "text": [
      "C:\\Users\\yis82\\AppData\\Local\\Temp\\ipykernel_32620\\188173397.py:1: SettingWithCopyWarning: \n",
      "A value is trying to be set on a copy of a slice from a DataFrame.\n",
      "Try using .loc[row_indexer,col_indexer] = value instead\n",
      "\n",
      "See the caveats in the documentation: https://pandas.pydata.org/pandas-docs/stable/user_guide/indexing.html#returning-a-view-versus-a-copy\n",
      "  elevation['AREA'] = pd.to_numeric(elevation['AREA'], errors=\"coerce\")\n",
      "C:\\Users\\yis82\\AppData\\Local\\Temp\\ipykernel_32620\\188173397.py:2: SettingWithCopyWarning: \n",
      "A value is trying to be set on a copy of a slice from a DataFrame.\n",
      "Try using .loc[row_indexer,col_indexer] = value instead\n",
      "\n",
      "See the caveats in the documentation: https://pandas.pydata.org/pandas-docs/stable/user_guide/indexing.html#returning-a-view-versus-a-copy\n",
      "  elevation['PERIMETER'] = pd.to_numeric(elevation['PERIMETER'], errors=\"coerce\")\n"
     ]
    },
    {
     "data": {
      "text/html": [
       "<div>\n",
       "<style scoped>\n",
       "    .dataframe tbody tr th:only-of-type {\n",
       "        vertical-align: middle;\n",
       "    }\n",
       "\n",
       "    .dataframe tbody tr th {\n",
       "        vertical-align: top;\n",
       "    }\n",
       "\n",
       "    .dataframe thead th {\n",
       "        text-align: right;\n",
       "    }\n",
       "</style>\n",
       "<table border=\"1\" class=\"dataframe\">\n",
       "  <thead>\n",
       "    <tr style=\"text-align: right;\">\n",
       "      <th></th>\n",
       "      <th>AREA</th>\n",
       "      <th>PERIMETER</th>\n",
       "      <th>ELEVATION</th>\n",
       "    </tr>\n",
       "  </thead>\n",
       "  <tbody>\n",
       "    <tr>\n",
       "      <th>106711</th>\n",
       "      <td>210697.72</td>\n",
       "      <td>554846.65</td>\n",
       "      <td>132.81</td>\n",
       "    </tr>\n",
       "    <tr>\n",
       "      <th>106712</th>\n",
       "      <td>210697.72</td>\n",
       "      <td>554756.65</td>\n",
       "      <td>121.28</td>\n",
       "    </tr>\n",
       "    <tr>\n",
       "      <th>106713</th>\n",
       "      <td>210697.72</td>\n",
       "      <td>554666.65</td>\n",
       "      <td>113.31</td>\n",
       "    </tr>\n",
       "    <tr>\n",
       "      <th>106714</th>\n",
       "      <td>210787.72</td>\n",
       "      <td>555026.65</td>\n",
       "      <td>146.72</td>\n",
       "    </tr>\n",
       "    <tr>\n",
       "      <th>106715</th>\n",
       "      <td>210787.72</td>\n",
       "      <td>554936.65</td>\n",
       "      <td>126.35</td>\n",
       "    </tr>\n",
       "  </tbody>\n",
       "</table>\n",
       "</div>"
      ],
      "text/plain": [
       "             AREA  PERIMETER  ELEVATION\n",
       "106711  210697.72  554846.65     132.81\n",
       "106712  210697.72  554756.65     121.28\n",
       "106713  210697.72  554666.65     113.31\n",
       "106714  210787.72  555026.65     146.72\n",
       "106715  210787.72  554936.65     126.35"
      ]
     },
     "execution_count": 45,
     "metadata": {},
     "output_type": "execute_result"
    }
   ],
   "source": [
    "elevation['AREA'] = pd.to_numeric(elevation['AREA'], errors=\"coerce\")\n",
    "elevation['PERIMETER'] = pd.to_numeric(elevation['PERIMETER'], errors=\"coerce\")\n",
    "\n",
    "elevation = elevation.dropna()\n",
    "elevation.index=range(len(elevation))\n",
    "elevation.tail()\n"
   ]
  },
  {
   "cell_type": "code",
   "execution_count": 46,
   "metadata": {},
   "outputs": [],
   "source": [
    "def project_array(coord, p1_type, p2_type):\n",
    "\n",
    "    p1 = pyproj.Proj(init=p1_type)\n",
    "    p2 = pyproj.Proj(init=p2_type)\n",
    "    fx, fy = pyproj.transform(p1, p2, coord[:, 0], coord[:, 1])\n",
    "    return np.dstack([fx, fy])[0]\n"
   ]
  },
  {
   "cell_type": "code",
   "execution_count": 47,
   "metadata": {},
   "outputs": [
    {
     "data": {
      "text/plain": [
       "array([[2.0030531e+05, 5.4745991e+05, 1.6780000e+01],\n",
       "       [2.0030531e+05, 5.4736991e+05, 9.6200000e+00],\n",
       "       [2.0030531e+05, 5.4727991e+05, 5.6900000e+00],\n",
       "       ...,\n",
       "       [2.1069772e+05, 5.5466665e+05, 1.1331000e+02],\n",
       "       [2.1078772e+05, 5.5502665e+05, 1.4672000e+02],\n",
       "       [2.1078772e+05, 5.5493665e+05, 1.2635000e+02]])"
      ]
     },
     "execution_count": 47,
     "metadata": {},
     "output_type": "execute_result"
    }
   ],
   "source": [
    "coord = np.array(elevation)\n",
    "coord"
   ]
  },
  {
   "cell_type": "code",
   "execution_count": 57,
   "metadata": {},
   "outputs": [
    {
     "name": "stderr",
     "output_type": "stream",
     "text": [
      "C:\\Users\\yis82\\AppData\\Local\\Temp\\ipykernel_32620\\43789815.py:5: FutureWarning: This function is deprecated. See: https://pyproj4.github.io/pyproj/stable/gotchas.html#upgrading-to-pyproj-2-from-pyproj-1\n",
      "  fx, fy = pyproj.transform(p1, p2, coord[:, 0], coord[:, 1])\n"
     ]
    },
    {
     "data": {
      "text/html": [
       "<div>\n",
       "<style scoped>\n",
       "    .dataframe tbody tr th:only-of-type {\n",
       "        vertical-align: middle;\n",
       "    }\n",
       "\n",
       "    .dataframe tbody tr th {\n",
       "        vertical-align: top;\n",
       "    }\n",
       "\n",
       "    .dataframe thead th {\n",
       "        text-align: right;\n",
       "    }\n",
       "</style>\n",
       "<table border=\"1\" class=\"dataframe\">\n",
       "  <thead>\n",
       "    <tr style=\"text-align: right;\">\n",
       "      <th></th>\n",
       "      <th>AREA</th>\n",
       "      <th>PERIMETER</th>\n",
       "    </tr>\n",
       "  </thead>\n",
       "  <tbody>\n",
       "    <tr>\n",
       "      <th>0</th>\n",
       "      <td>300305.31</td>\n",
       "      <td>547459.91</td>\n",
       "    </tr>\n",
       "    <tr>\n",
       "      <th>1</th>\n",
       "      <td>300305.31</td>\n",
       "      <td>547369.91</td>\n",
       "    </tr>\n",
       "    <tr>\n",
       "      <th>2</th>\n",
       "      <td>300305.31</td>\n",
       "      <td>547279.91</td>\n",
       "    </tr>\n",
       "    <tr>\n",
       "      <th>3</th>\n",
       "      <td>300305.31</td>\n",
       "      <td>547189.91</td>\n",
       "    </tr>\n",
       "    <tr>\n",
       "      <th>4</th>\n",
       "      <td>300395.31</td>\n",
       "      <td>547549.91</td>\n",
       "    </tr>\n",
       "    <tr>\n",
       "      <th>...</th>\n",
       "      <td>...</td>\n",
       "      <td>...</td>\n",
       "    </tr>\n",
       "    <tr>\n",
       "      <th>106711</th>\n",
       "      <td>310697.72</td>\n",
       "      <td>554846.65</td>\n",
       "    </tr>\n",
       "    <tr>\n",
       "      <th>106712</th>\n",
       "      <td>310697.72</td>\n",
       "      <td>554756.65</td>\n",
       "    </tr>\n",
       "    <tr>\n",
       "      <th>106713</th>\n",
       "      <td>310697.72</td>\n",
       "      <td>554666.65</td>\n",
       "    </tr>\n",
       "    <tr>\n",
       "      <th>106714</th>\n",
       "      <td>310787.72</td>\n",
       "      <td>555026.65</td>\n",
       "    </tr>\n",
       "    <tr>\n",
       "      <th>106715</th>\n",
       "      <td>310787.72</td>\n",
       "      <td>554936.65</td>\n",
       "    </tr>\n",
       "  </tbody>\n",
       "</table>\n",
       "<p>106716 rows × 2 columns</p>\n",
       "</div>"
      ],
      "text/plain": [
       "             AREA  PERIMETER\n",
       "0       300305.31  547459.91\n",
       "1       300305.31  547369.91\n",
       "2       300305.31  547279.91\n",
       "3       300305.31  547189.91\n",
       "4       300395.31  547549.91\n",
       "...           ...        ...\n",
       "106711  310697.72  554846.65\n",
       "106712  310697.72  554756.65\n",
       "106713  310697.72  554666.65\n",
       "106714  310787.72  555026.65\n",
       "106715  310787.72  554936.65\n",
       "\n",
       "[106716 rows x 2 columns]"
      ]
     },
     "execution_count": 57,
     "metadata": {},
     "output_type": "execute_result"
    }
   ],
   "source": [
    "p1_type = \"EPSG:5181\"\n",
    "p2_type = \"EPSG:5186\"\n",
    "\n",
    "result = project_array(coord, p1_type, p2_type)\n",
    "result = pd.DataFrame(result,columns=['AREA',\"PERIMETER\"])\n",
    "result"
   ]
  },
  {
   "cell_type": "code",
   "execution_count": 59,
   "metadata": {},
   "outputs": [
    {
     "data": {
      "text/html": [
       "<div>\n",
       "<style scoped>\n",
       "    .dataframe tbody tr th:only-of-type {\n",
       "        vertical-align: middle;\n",
       "    }\n",
       "\n",
       "    .dataframe tbody tr th {\n",
       "        vertical-align: top;\n",
       "    }\n",
       "\n",
       "    .dataframe thead th {\n",
       "        text-align: right;\n",
       "    }\n",
       "</style>\n",
       "<table border=\"1\" class=\"dataframe\">\n",
       "  <thead>\n",
       "    <tr style=\"text-align: right;\">\n",
       "      <th></th>\n",
       "      <th>AREA</th>\n",
       "      <th>PERIMETER</th>\n",
       "      <th>CODE_DC</th>\n",
       "      <th>SOILDRA</th>\n",
       "    </tr>\n",
       "  </thead>\n",
       "  <tbody>\n",
       "  </tbody>\n",
       "</table>\n",
       "</div>"
      ],
      "text/plain": [
       "Empty DataFrame\n",
       "Columns: [AREA, PERIMETER, CODE_DC, SOILDRA]\n",
       "Index: []"
      ]
     },
     "execution_count": 59,
     "metadata": {},
     "output_type": "execute_result"
    }
   ],
   "source": [
    "df = drainage.loc[drainage['AREA'].isin(result['AREA'])]\n"
   ]
  },
  {
   "cell_type": "code",
   "execution_count": 65,
   "metadata": {},
   "outputs": [
    {
     "data": {
      "text/html": [
       "<div>\n",
       "<style scoped>\n",
       "    .dataframe tbody tr th:only-of-type {\n",
       "        vertical-align: middle;\n",
       "    }\n",
       "\n",
       "    .dataframe tbody tr th {\n",
       "        vertical-align: top;\n",
       "    }\n",
       "\n",
       "    .dataframe thead th {\n",
       "        text-align: right;\n",
       "    }\n",
       "</style>\n",
       "<table border=\"1\" class=\"dataframe\">\n",
       "  <thead>\n",
       "    <tr style=\"text-align: right;\">\n",
       "      <th></th>\n",
       "      <th>AREA</th>\n",
       "      <th>PERIMETER</th>\n",
       "      <th>CODE_DC</th>\n",
       "      <th>SOILDRA</th>\n",
       "    </tr>\n",
       "  </thead>\n",
       "  <tbody>\n",
       "  </tbody>\n",
       "</table>\n",
       "</div>"
      ],
      "text/plain": [
       "Empty DataFrame\n",
       "Columns: [AREA, PERIMETER, CODE_DC, SOILDRA]\n",
       "Index: []"
      ]
     },
     "execution_count": 65,
     "metadata": {},
     "output_type": "execute_result"
    }
   ],
   "source": [
    "drainage.loc[drainage['AREA'] ==300305.3]"
   ]
  },
  {
   "cell_type": "code",
   "execution_count": null,
   "metadata": {},
   "outputs": [],
   "source": []
  }
 ],
 "metadata": {
  "kernelspec": {
   "display_name": "Python 3",
   "language": "python",
   "name": "python3"
  },
  "language_info": {
   "codemirror_mode": {
    "name": "ipython",
    "version": 3
   },
   "file_extension": ".py",
   "mimetype": "text/x-python",
   "name": "python",
   "nbconvert_exporter": "python",
   "pygments_lexer": "ipython3",
   "version": "3.9.13"
  },
  "orig_nbformat": 4
 },
 "nbformat": 4,
 "nbformat_minor": 2
}
