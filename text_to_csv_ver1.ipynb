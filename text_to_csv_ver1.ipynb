{
 "cells": [
  {
   "cell_type": "code",
   "execution_count": 2,
   "metadata": {},
   "outputs": [],
   "source": [
    "import os\n",
    "import pandas as pd\n",
    "import csv"
   ]
  },
  {
   "cell_type": "code",
   "execution_count": 14,
   "metadata": {},
   "outputs": [],
   "source": [
    "# 폴더 경로 설정\n",
    "folder_path = './서울시_빅데이터_공모전_원본자료/B038. 서울시 강우량정보/2. 파일데이터/2019'   # <- 여기 폴더명 수정 다른거 할거 X\n",
    "\n",
    "# 폴더 내의 모든 파일 목록 가져오기\n",
    "file_list = os.listdir(folder_path)\n",
    "\n",
    "# 각 텍스트 파일을 읽고 CSV 파일로 변환\n",
    "for file_name in file_list:\n",
    "    if file_name.endswith(\".txt\"):\n",
    "        # 텍스트 파일 열기\n",
    "        with open(os.path.join(folder_path, file_name), 'r',encoding = 'utf-8') as txt_file:\n",
    "            lines = txt_file.readlines()\n",
    "\n",
    "        # CSV 파일로 변환\n",
    "        csv_file_name = file_name.replace(\".txt\", \".csv\")\n",
    "        with open(os.path.join(folder_path, csv_file_name), 'w', newline='') as csv_file:\n",
    "            csv_writer = csv.writer(csv_file)\n",
    "\n",
    "            # 각 텍스트 라인을 CSV 파일에 쓰기\n",
    "            for line in lines:\n",
    "                csv_writer.writerow(line.strip().split()) "
   ]
  },
  {
   "cell_type": "code",
   "execution_count": null,
   "metadata": {},
   "outputs": [],
   "source": []
  }
 ],
 "metadata": {
  "kernelspec": {
   "display_name": "Python 3",
   "language": "python",
   "name": "python3"
  },
  "language_info": {
   "codemirror_mode": {
    "name": "ipython",
    "version": 3
   },
   "file_extension": ".py",
   "mimetype": "text/x-python",
   "name": "python",
   "nbconvert_exporter": "python",
   "pygments_lexer": "ipython3",
   "version": "3.9.13"
  }
 },
 "nbformat": 4,
 "nbformat_minor": 2
}
